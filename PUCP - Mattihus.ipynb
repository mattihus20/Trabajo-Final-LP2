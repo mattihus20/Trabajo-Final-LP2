{
 "cells": [
  {
   "cell_type": "markdown",
   "id": "02d63aab",
   "metadata": {},
   "source": [
    "# <center>**REPOSITORIO PUCP**</center>\n",
    "\n",
    "\n",
    "\n",
    "### **Descripción**\n",
    "\n",
    "El objetivo es obtener información estructurada de las tesis de pregrado y posgrado de Estadística, Informática o de carreras similares desarrolladas a nivel nacional, a través de los repositorios institucionales de las universidades.\n",
    "\n",
    "\n",
    "El repositorio escogido es el de la Pontificia Universidad Católica del Perú (PUCP).\n",
    "\n",
    "El respectivo url de dicho repositorio es: https://repositorio.pucp.edu.pe/index/handle/123456789/9139/recent-submissions (Ing. Informática)"
   ]
  },
  {
   "cell_type": "markdown",
   "id": "3efa7885",
   "metadata": {},
   "source": [
    "## 1. Proceso Web Scrapping"
   ]
  },
  {
   "cell_type": "markdown",
   "id": "e2e527c2",
   "metadata": {},
   "source": [
    "El proceso está dividido en 4 partes:\n",
    "\n",
    "- Primero, se procede a extraer las rutas de acceso para toda las páginas que contiene las tesis. \n",
    "- Segundo, dentro de cada página, se extrae las rutas de acceso para toda las tesis.\n",
    "- Tercero, para cada tesis, se extrae las rutas de acceso a toda la información.\n",
    "- Cuarto, de toda la información extraída de cada tesis, se extrae la información relevante para el presente trabajo."
   ]
  },
  {
   "cell_type": "markdown",
   "id": "4e96eda0",
   "metadata": {},
   "source": [
    "### 1.1 Librerías"
   ]
  },
  {
   "cell_type": "code",
   "execution_count": 3,
   "id": "dee41889",
   "metadata": {},
   "outputs": [],
   "source": [
    "import requests\n",
    "import pandas as pd\n",
    "from bs4 import BeautifulSoup\n",
    "from urllib.parse import urlparse"
   ]
  },
  {
   "cell_type": "markdown",
   "id": "66d820b5",
   "metadata": {},
   "source": [
    "### 1.2 Extracción de rutas de acceso de las páginas"
   ]
  },
  {
   "cell_type": "markdown",
   "id": "b5d9f39f",
   "metadata": {},
   "source": [
    "El URL del repositorio está dividido en páginas. Cada página contiene una lista de 20 tesis. El repositorio contiene un total de 379 tesis. Entonces, se debe acceder a cada página para acceder a cada tesis. \n",
    "\n",
    "Para realizar dicha tarea, se presenta el siguiente código:\n",
    "\n",
    "1. Parsear la `URL` del repositorio PUCP y obtener el esquema (protocolo) y el dominio principal de la `URL`.\n",
    "\n",
    "2. Realizar una solicitud `HTTP` a la `URL` y obtener el contenido `HTML` de la página.\n",
    "\n",
    "3. Procesar el contenido `HTML` con la librería `BeautifulSoup`.\n",
    "\n",
    "4. Buscar el enlace de la siguiente página de resultados en la página actual utilizando el atributo `class` de la etiqueta `a`.\n",
    "\n",
    "5. Construir una nueva `URL` con el esquema y el dominio principal obtenidos previamente, y agregar el enlace de la siguiente página a la lista de `URL` a procesar.\n",
    "\n",
    "6. Repetir los pasos 3 a 5 para cada una de las `URL` en la lista hasta que no se encuentre el enlace de la siguiente página.\n",
    "\n",
    "7. Finalmente, eliminar el último elemento de la lista (que aparece en blanco).\n",
    "\n",
    "\n",
    "El código recorre y procesa todas las páginas de resultados de una búsqueda en el repositorio PUCP de tesis de ingeniería informática. La lista `lista` almacenaría todos estos enlaces."
   ]
  },
  {
   "cell_type": "code",
   "execution_count": 6,
   "id": "a9dd2a40",
   "metadata": {},
   "outputs": [
    {
     "data": {
      "text/plain": [
       "'https://repositorio.pucp.edu.pe'"
      ]
     },
     "execution_count": 6,
     "metadata": {},
     "output_type": "execute_result"
    }
   ],
   "source": [
    "# URL del repositorio PUCP: tesis de Ingeniería Informática\n",
    "url = 'https://repositorio.pucp.edu.pe/index/handle/123456789/9139/recent-submissions'\n",
    "parsed_url = urlparse(url)\n",
    "\n",
    "# Hacer solicitud HTTP a la URL y obtener el contenido HTML\n",
    "response = requests.get(url)\n",
    "html = response.content\n",
    "\n",
    "# Procesar el HTML con BeautifulSoup\n",
    "soup = BeautifulSoup(html, 'html.parser')\n",
    "\n",
    "# Buscamos \n",
    "ps = soup.find('a', class_ = 'next-page-link').get('href')\n",
    "\n",
    "# Obtiene el dominio principal\n",
    "domain = parsed_url.netloc\n",
    "\n",
    "# Obtiene el esquema\n",
    "scheme = parsed_url.scheme\n",
    "\n",
    "# Construye el URL del dominio principal\n",
    "url2 = f'{scheme}://{domain}'\n",
    "\n",
    "lista = []\n",
    "lista.append(url)\n",
    "url3 = None\n",
    "i = 0\n",
    "while lista[-1] != url2:\n",
    "    \n",
    "    url3 = lista[i]\n",
    "\n",
    "    # Solicitud\n",
    "    r = requests.get(url3)\n",
    "    h = r.content\n",
    "    \n",
    "    # Procesar\n",
    "    s = BeautifulSoup(h, 'html.parser')\n",
    "    \n",
    "    # Buscamos\n",
    "    p = s.find('a', class_ = 'next-page-link').get('href')\n",
    "    \n",
    "    # Agregamos a la lista\n",
    "    lista.append(url2 + p)\n",
    "    i += 1\n",
    "\n",
    "# Se elimina el último elemento de la lista, que aparece en blanco\n",
    "lista.pop(-1)"
   ]
  },
  {
   "cell_type": "markdown",
   "id": "ae991d86",
   "metadata": {},
   "source": [
    "### 1.3 Extracción de rutas de acceso de las tesis"
   ]
  },
  {
   "cell_type": "markdown",
   "id": "e3eeb62a",
   "metadata": {},
   "source": [
    "Ahora que se tiene acceso a cada página del repositorio, necesitamos extraer las rutas de acceso a cada tesis. Para ello se procede de la siguiente forma:\n",
    "\n",
    "1. Declarar una lista vacía llamada `handle`.\n",
    "2. Recorrer cada `URL` en la lista de nombre `lista`.\n",
    "3. Para cada URL:\n",
    "    1. Realizar una solicitud `HTTP` a la `URL` y obtener el contenido `HTML` de la página.\n",
    "    2. Procesar el contenido `HTML` con la librería `BeautifulSoup`.\n",
    "    3. Buscar todas las etiquetas `h4` en el `HTML` procesado.\n",
    "    4. Recorrer cada etiqueta `h4` y extraer el enlace contenido en la etiqueta `a` que se encuentra dentro de ella.\n",
    "    5. Agregar el enlace a la lista `handle`.\n",
    "\n",
    "El código recorre todas las páginas de resultados de una búsqueda en el repositorio PUCP de tesis de ingeniería informática y extrae todos los enlaces a las tesis encontradas en cada página. La lista `handle` almacenaría todos estos enlaces."
   ]
  },
  {
   "cell_type": "code",
   "execution_count": 8,
   "id": "b572658f",
   "metadata": {},
   "outputs": [],
   "source": [
    "handle = []\n",
    "\n",
    "for i in lista:\n",
    "    # URL del repositorio PUCP: tesis de Ingeniería Informática\n",
    "    url4 = i\n",
    "\n",
    "    # Hacer solicitud HTTP a la URL y obtener el contenido HTML\n",
    "    response2 = requests.get(url4)\n",
    "    html2 = response2.content\n",
    "\n",
    "    # Procesar el HTML con BeautifulSoup\n",
    "    soup2 = BeautifulSoup(html2, 'html.parser')\n",
    "\n",
    "    # Extraer todos los enlaces con la etiqueta <h4>\n",
    "    h4s = soup2.find_all('h4')\n",
    "\n",
    "    # Iterar sobre cada etiqueta <h4>\n",
    "    for h4 in h4s:\n",
    "        # Extraer el enlace de la etiqueta <a> dentro de la etiqueta <h4>\n",
    "        link = h4.find('a').get('href')\n",
    "        handle.append(link)"
   ]
  },
  {
   "cell_type": "markdown",
   "id": "ccd3d6dc",
   "metadata": {},
   "source": [
    "### 1.4 Extracción de rutas de acceso a la información de cada tesis"
   ]
  },
  {
   "cell_type": "markdown",
   "id": "cc36e6c8",
   "metadata": {},
   "source": [
    "Ahora que se tiene acceso a cada tesis, necesitamos extraer toda la información disponible de la tesis. Al acceder al enlace de una tesis, se muestra una opción de nombre `Metadatos`, que contiene toda la información requerida. Entonces, necesitamos acceder a esta opción para extraer dicho información. Para ello se procede de la siguiente manera: \n",
    "\n",
    "1. Declarar la lista vacía llamada `rutas`.\n",
    "2. Recorrer cada enlace en la lista `handle`.\n",
    "3. Para cada enlace:\n",
    "    1. Realizar una solicitud `HTTP` a la `URL` y obtiene el contenido `HTML` de la página.\n",
    "    2. Procesar el contenido `HTML` con la librería `BeautifulSoup`.\n",
    "    3. Buscar todos los enlaces que tengan el texto `\"Show full item record\"`.\n",
    "    4. Si se encontraron enlaces, obtener el valor del atributo `href` del primer enlace y agregar a la lista `rutas`.\n",
    "    \n",
    "El código recorre cada una de las páginas de las tesis encontradas en el repositorio PUCP y extraer el enlace a la página con la información completa de cada tesis. La lista `rutas` almacenará todos estos enlaces."
   ]
  },
  {
   "cell_type": "code",
   "execution_count": 10,
   "id": "98406da6",
   "metadata": {},
   "outputs": [],
   "source": [
    "rutas = []\n",
    "\n",
    "for j in handle:\n",
    "    \n",
    "    # Obtén el contenido HTML de la página web\n",
    "    url5 = url2 + j\n",
    "    page3 = requests.get(url5)\n",
    "    soup3 = BeautifulSoup(page3.content, 'html.parser')\n",
    "    # Buscar todos los enlaces que tengan el texto \"Show full item record\"\n",
    "    enlaces = soup3.find_all('a', text='Show full item record')\n",
    "\n",
    "    # Si se encontraron enlaces, obtener el valor del atributo href del primer enlace\n",
    "    if enlaces:\n",
    "        href = enlaces[0]['href']\n",
    "        rutas.append(href)  # imprime el valor del atributo href"
   ]
  },
  {
   "cell_type": "markdown",
   "id": "f063fda9",
   "metadata": {},
   "source": [
    "### 1.5 Extracción de la información de cada tesis"
   ]
  },
  {
   "cell_type": "markdown",
   "id": "780e66ba",
   "metadata": {},
   "source": [
    "Finalmente se extrae la información contenida en la opción `Metadatos`, y se filtra la información relevante para el trabajo. Para ello se procede de la siguiente forma:\n",
    "\n",
    "1. Declarar siete listas vacías llamadas `universidad`, `titulo`, `autor`, `grado`, `asesor`, `resumen` y `anio`.\n",
    "2. Declarar una lista llamada `v` que contiene etiquetas o claves para algunos campos o atributos que se buscan en las páginas de las tesis.\n",
    "3. Recorrer cada enlace en la lista `rutas`.\n",
    "4. Para cada enlace:\n",
    "    1. Realizar una solicitud `HTTP` a la `URL` y obtener el contenido `HTML` de la página.\n",
    "    2. Procesar el contenido HTML con la librería BeautifulSoup.\n",
    "    3. Buscar todas las celdas `td` con la clase `label-cell` y `word-break`.\n",
    "    4. Almacenar los contenidos de las celdas con la clase `label-cell` en una lista `l` y los contenidos de las celdas con la clase `word-break` en una lista `m`.\n",
    "    5. Crear un diccionario `diccionario` utilizando las listas `l` y `m` como claves y valores respectivamente.\n",
    "    6. Revisar si cada una de las etiquetas en la lista `v` están en el diccionario y, de ser así, agregar el valor correspondiente a la lista correspondiente. Si la etiqueta no se encuentra en el diccionario, se agrega el valor `\"Sin registro\"` a la lista correspondiente.\n",
    "    \n",
    "\n",
    "El código recorre cada una de las páginas de las tesis encontradas en el repositorio PUCP y extraer información específica de cada tesis. Las siete listas almacenarán esta información para cada tesis."
   ]
  },
  {
   "cell_type": "code",
   "execution_count": 12,
   "id": "08c7d719",
   "metadata": {},
   "outputs": [],
   "source": [
    "universidad = []\n",
    "titulo = []\n",
    "autor = []\n",
    "grado = []\n",
    "asesor = []\n",
    "resumen = []\n",
    "anio = []\n",
    "\n",
    "v = ['dc.publisher','dc.title','dc.contributor.author','thesis.degree.name','dc.contributor.advisor',\n",
    "    'dc.description.abstract','dc.date.issued']\n",
    "\n",
    "for o in rutas:\n",
    "\n",
    "    q = url2 + o\n",
    "    p = requests.get(q)\n",
    "    ss = BeautifulSoup(p.content, 'html.parser')\n",
    "    ls = ss.find_all('td', class_= 'label-cell')\n",
    "    tds = ss.find_all('td', class_= 'word-break')\n",
    "\n",
    "    m = []\n",
    "    for td in tds:\n",
    "        c = td.text\n",
    "        m.append(c)\n",
    "\n",
    "    l = []\n",
    "    for g in ls:\n",
    "        u = g.text\n",
    "        l.append(u)\n",
    "    \n",
    "    diccionario = dict(zip(l,m))\n",
    "  \n",
    "    if v[0] in diccionario:\n",
    "        universidad.append(diccionario[v[0]])\n",
    "    else:\n",
    "        universidad.append('Sin registro')\n",
    "\n",
    "    if v[1] in diccionario:\n",
    "        titulo.append(diccionario[v[1]])\n",
    "    else:\n",
    "        titulo.append('Sin registro')\n",
    "\n",
    "    if v[2] in diccionario:\n",
    "        autor.append(diccionario[v[2]])\n",
    "    else:\n",
    "        autor.append('Sin registro')\n",
    "\n",
    "    if v[3] in diccionario:\n",
    "        grado.append(diccionario[v[3]])\n",
    "    else:\n",
    "        grado.append('Sin registro')\n",
    "\n",
    "    if v[4] in diccionario:\n",
    "        asesor.append(diccionario[v[4]])\n",
    "    else:\n",
    "        asesor.append('Sin registro')\n",
    "\n",
    "    if v[5] in diccionario:\n",
    "        resumen.append(diccionario[v[5]])\n",
    "    else:\n",
    "        resumen.append('Sin registro')\n",
    "\n",
    "    if v[6] in diccionario:\n",
    "        anio.append(diccionario[v[6]])\n",
    "    else:\n",
    "        anio.append('Sin registro')"
   ]
  },
  {
   "cell_type": "markdown",
   "id": "8c2770d0",
   "metadata": {},
   "source": [
    "### 1.6 Almacenamiento de la información"
   ]
  },
  {
   "cell_type": "markdown",
   "id": "cb24eef5",
   "metadata": {},
   "source": [
    "Finalmente, almacenamos la información de forma estructurada. Procedemos de la siguiente forma:\n",
    "\n",
    "1. Crear un diccionario llamado `datos` donde cada clave es el nombre de un campo o atributo y cada valor es una lista con los valores para ese campo o atributo.\n",
    "2. Crear un DataFrame de `pandas` llamado `df` a partir del diccionario `datos`.\n",
    "3. Exportar el DataFrame a un archivo `CSV` llamado `\"tesis.csv\"` utilizando como separador de campo el caracter `;` y como codificación de caracteres `utf-8`.\n",
    "\n",
    "\n",
    "El código crea un archivo `CSV` con la información de las tesis extraídas del repositorio PUCP. Cada fila del archivo corresponde a una tesis y cada columna corresponde a un campo o atributo de la tesis."
   ]
  },
  {
   "cell_type": "code",
   "execution_count": 13,
   "id": "21ed89d4",
   "metadata": {},
   "outputs": [],
   "source": [
    "datos = {\n",
    "    'Universidad': universidad,\n",
    "    'Titulo': titulo,\n",
    "    'Autor': autor,\n",
    "    'Grado': grado,\n",
    "    'Asesor': asesor,\n",
    "    'Resumen': resumen,\n",
    "    'Año': anio\n",
    "}\n",
    "\n",
    "df = pd.DataFrame(datos)\n",
    "df.to_csv('pucp.csv', sep = ';', index = False, encoding = 'utf-8')"
   ]
  },
  {
   "cell_type": "markdown",
   "id": "0fb9bbdf",
   "metadata": {},
   "source": [
    "## 2. Resultados"
   ]
  },
  {
   "cell_type": "code",
   "execution_count": 16,
   "id": "df9ddf95",
   "metadata": {},
   "outputs": [
    {
     "data": {
      "text/html": [
       "<div>\n",
       "<style scoped>\n",
       "    .dataframe tbody tr th:only-of-type {\n",
       "        vertical-align: middle;\n",
       "    }\n",
       "\n",
       "    .dataframe tbody tr th {\n",
       "        vertical-align: top;\n",
       "    }\n",
       "\n",
       "    .dataframe thead th {\n",
       "        text-align: right;\n",
       "    }\n",
       "</style>\n",
       "<table border=\"1\" class=\"dataframe\">\n",
       "  <thead>\n",
       "    <tr style=\"text-align: right;\">\n",
       "      <th></th>\n",
       "      <th>Universidad</th>\n",
       "      <th>Titulo</th>\n",
       "      <th>Autor</th>\n",
       "      <th>Grado</th>\n",
       "      <th>Asesor</th>\n",
       "      <th>Resumen</th>\n",
       "      <th>Año</th>\n",
       "    </tr>\n",
       "  </thead>\n",
       "  <tbody>\n",
       "    <tr>\n",
       "      <th>0</th>\n",
       "      <td>Pontificia Universidad Católica del Perú</td>\n",
       "      <td>Implementación de un sistema de información pa...</td>\n",
       "      <td>Canasa Mayta, Paul Rodrigo</td>\n",
       "      <td>Ingeniero Informático</td>\n",
       "      <td>Tupia Anticona, Manuel Francisco</td>\n",
       "      <td>Un almacén cuenta con tres funciones important...</td>\n",
       "      <td>2022-10-13</td>\n",
       "    </tr>\n",
       "    <tr>\n",
       "      <th>1</th>\n",
       "      <td>Pontificia Universidad Católica del Perú</td>\n",
       "      <td>Implementación de sistemas de gestión de segur...</td>\n",
       "      <td>Cabello Roca, Percy Ernesto</td>\n",
       "      <td>Ingeniero Informático</td>\n",
       "      <td>Flores García, Luis Alberto</td>\n",
       "      <td>El presente informe describe la experiencia ad...</td>\n",
       "      <td>2022-10-13</td>\n",
       "    </tr>\n",
       "    <tr>\n",
       "      <th>2</th>\n",
       "      <td>Pontificia Universidad Católica del Perú</td>\n",
       "      <td>Automatización del proceso de gestión de órden...</td>\n",
       "      <td>Alpiste Sarmiento, Daniel Mijail</td>\n",
       "      <td>Ingeniero Informático</td>\n",
       "      <td>Murillo Veliz, Braulio Oscar</td>\n",
       "      <td>Desde el inicio del siglo XXI y con el desarro...</td>\n",
       "      <td>2022-09-05</td>\n",
       "    </tr>\n",
       "    <tr>\n",
       "      <th>3</th>\n",
       "      <td>Pontificia Universidad Católica del Perú</td>\n",
       "      <td>Implementación de un Sistema de Información Ho...</td>\n",
       "      <td>Arrué Pajares, Sebastián Daniel</td>\n",
       "      <td>Ingeniero Informático</td>\n",
       "      <td>Lena Valega, Ángel Gabriel</td>\n",
       "      <td>Dada la coyuntura actual del COVID-19, en el P...</td>\n",
       "      <td>2022-08-17</td>\n",
       "    </tr>\n",
       "    <tr>\n",
       "      <th>4</th>\n",
       "      <td>Pontificia Universidad Católica del Perú</td>\n",
       "      <td>Diseño de un modelo para identificar amenazas ...</td>\n",
       "      <td>Castillo Lopez, Anderson Jesús</td>\n",
       "      <td>Ingeniero Informático</td>\n",
       "      <td>Tupia Anticona, Manuel Francisco</td>\n",
       "      <td>En la actualidad, el uso de las tecnologías de...</td>\n",
       "      <td>2022-08-11</td>\n",
       "    </tr>\n",
       "    <tr>\n",
       "      <th>...</th>\n",
       "      <td>...</td>\n",
       "      <td>...</td>\n",
       "      <td>...</td>\n",
       "      <td>...</td>\n",
       "      <td>...</td>\n",
       "      <td>...</td>\n",
       "      <td>...</td>\n",
       "    </tr>\n",
       "    <tr>\n",
       "      <th>338</th>\n",
       "      <td>Pontificia Universidad Católica del Perú</td>\n",
       "      <td>Análisis, diseño y construcción de una herrami...</td>\n",
       "      <td>Rondón Suasnabar, Sandro Salvador</td>\n",
       "      <td>Ingeniero Informático</td>\n",
       "      <td>Sin registro</td>\n",
       "      <td>En este trabajo de tesis se presenta el desarr...</td>\n",
       "      <td>2011-05-09</td>\n",
       "    </tr>\n",
       "    <tr>\n",
       "      <th>339</th>\n",
       "      <td>Pontificia Universidad Católica del Perú</td>\n",
       "      <td>Análisis, diseño e implementación de un sistem...</td>\n",
       "      <td>Chanca de la Cruz, Marllessi Marilyn</td>\n",
       "      <td>Ingeniero Informático</td>\n",
       "      <td>Sin registro</td>\n",
       "      <td>El presente proyecto de tesis tiene por objeti...</td>\n",
       "      <td>2011-05-09</td>\n",
       "    </tr>\n",
       "    <tr>\n",
       "      <th>340</th>\n",
       "      <td>Pontificia Universidad Católica del Perú</td>\n",
       "      <td>Modelado lingüístico-prosódico para un sistema...</td>\n",
       "      <td>Segura Salas, Elí Rónal</td>\n",
       "      <td>Ingeniero Informático</td>\n",
       "      <td>Sin registro</td>\n",
       "      <td>El objeto principal de esta tesis ha sido el e...</td>\n",
       "      <td>2011-05-09</td>\n",
       "    </tr>\n",
       "    <tr>\n",
       "      <th>341</th>\n",
       "      <td>Pontificia Universidad Católica del Perú</td>\n",
       "      <td>Plataforma Web de apoyo a las PYMES para la ge...</td>\n",
       "      <td>Rosas Limaylla, Jhénifer Florinda</td>\n",
       "      <td>Ingeniero Informático</td>\n",
       "      <td>Sin registro</td>\n",
       "      <td>El sector de las PYMES es el motor de la econo...</td>\n",
       "      <td>2011-05-09</td>\n",
       "    </tr>\n",
       "    <tr>\n",
       "      <th>342</th>\n",
       "      <td>Pontificia Universidad Católica del Perú</td>\n",
       "      <td>Análisis y diseño de una herramienta de desarr...</td>\n",
       "      <td>Jáuregui Puertas, Gerardo Daniel</td>\n",
       "      <td>Ingeniero Informático</td>\n",
       "      <td>Sin registro</td>\n",
       "      <td>Para aquellos que desarrollan y mantienen los ...</td>\n",
       "      <td>2011-05-09</td>\n",
       "    </tr>\n",
       "  </tbody>\n",
       "</table>\n",
       "<p>343 rows × 7 columns</p>\n",
       "</div>"
      ],
      "text/plain": [
       "                                  Universidad  \\\n",
       "0    Pontificia Universidad Católica del Perú   \n",
       "1    Pontificia Universidad Católica del Perú   \n",
       "2    Pontificia Universidad Católica del Perú   \n",
       "3    Pontificia Universidad Católica del Perú   \n",
       "4    Pontificia Universidad Católica del Perú   \n",
       "..                                        ...   \n",
       "338  Pontificia Universidad Católica del Perú   \n",
       "339  Pontificia Universidad Católica del Perú   \n",
       "340  Pontificia Universidad Católica del Perú   \n",
       "341  Pontificia Universidad Católica del Perú   \n",
       "342  Pontificia Universidad Católica del Perú   \n",
       "\n",
       "                                                Titulo  \\\n",
       "0    Implementación de un sistema de información pa...   \n",
       "1    Implementación de sistemas de gestión de segur...   \n",
       "2    Automatización del proceso de gestión de órden...   \n",
       "3    Implementación de un Sistema de Información Ho...   \n",
       "4    Diseño de un modelo para identificar amenazas ...   \n",
       "..                                                 ...   \n",
       "338  Análisis, diseño y construcción de una herrami...   \n",
       "339  Análisis, diseño e implementación de un sistem...   \n",
       "340  Modelado lingüístico-prosódico para un sistema...   \n",
       "341  Plataforma Web de apoyo a las PYMES para la ge...   \n",
       "342  Análisis y diseño de una herramienta de desarr...   \n",
       "\n",
       "                                    Autor                  Grado  \\\n",
       "0              Canasa Mayta, Paul Rodrigo  Ingeniero Informático   \n",
       "1             Cabello Roca, Percy Ernesto  Ingeniero Informático   \n",
       "2        Alpiste Sarmiento, Daniel Mijail  Ingeniero Informático   \n",
       "3         Arrué Pajares, Sebastián Daniel  Ingeniero Informático   \n",
       "4          Castillo Lopez, Anderson Jesús  Ingeniero Informático   \n",
       "..                                    ...                    ...   \n",
       "338     Rondón Suasnabar, Sandro Salvador  Ingeniero Informático   \n",
       "339  Chanca de la Cruz, Marllessi Marilyn  Ingeniero Informático   \n",
       "340               Segura Salas, Elí Rónal  Ingeniero Informático   \n",
       "341     Rosas Limaylla, Jhénifer Florinda  Ingeniero Informático   \n",
       "342      Jáuregui Puertas, Gerardo Daniel  Ingeniero Informático   \n",
       "\n",
       "                               Asesor  \\\n",
       "0    Tupia Anticona, Manuel Francisco   \n",
       "1         Flores García, Luis Alberto   \n",
       "2        Murillo Veliz, Braulio Oscar   \n",
       "3          Lena Valega, Ángel Gabriel   \n",
       "4    Tupia Anticona, Manuel Francisco   \n",
       "..                                ...   \n",
       "338                      Sin registro   \n",
       "339                      Sin registro   \n",
       "340                      Sin registro   \n",
       "341                      Sin registro   \n",
       "342                      Sin registro   \n",
       "\n",
       "                                               Resumen         Año  \n",
       "0    Un almacén cuenta con tres funciones important...  2022-10-13  \n",
       "1    El presente informe describe la experiencia ad...  2022-10-13  \n",
       "2    Desde el inicio del siglo XXI y con el desarro...  2022-09-05  \n",
       "3    Dada la coyuntura actual del COVID-19, en el P...  2022-08-17  \n",
       "4    En la actualidad, el uso de las tecnologías de...  2022-08-11  \n",
       "..                                                 ...         ...  \n",
       "338  En este trabajo de tesis se presenta el desarr...  2011-05-09  \n",
       "339  El presente proyecto de tesis tiene por objeti...  2011-05-09  \n",
       "340  El objeto principal de esta tesis ha sido el e...  2011-05-09  \n",
       "341  El sector de las PYMES es el motor de la econo...  2011-05-09  \n",
       "342  Para aquellos que desarrollan y mantienen los ...  2011-05-09  \n",
       "\n",
       "[343 rows x 7 columns]"
      ]
     },
     "execution_count": 16,
     "metadata": {},
     "output_type": "execute_result"
    }
   ],
   "source": [
    "df = pd.read_csv('pucp.csv', sep = ';')\n",
    "df"
   ]
  },
  {
   "cell_type": "markdown",
   "id": "90ed139a",
   "metadata": {},
   "source": [
    "## 3. Algunos Estadísticos"
   ]
  },
  {
   "cell_type": "markdown",
   "id": "caf1f294",
   "metadata": {},
   "source": [
    "### 3.1 Cantidad de tesis sin asesor"
   ]
  },
  {
   "cell_type": "code",
   "execution_count": 24,
   "id": "4f1aa842",
   "metadata": {},
   "outputs": [
    {
     "name": "stdout",
     "output_type": "stream",
     "text": [
      "92\n"
     ]
    }
   ],
   "source": [
    "df2 = df[df['Asesor'] == 'Sin registro']\n",
    "print(len(df2))"
   ]
  },
  {
   "cell_type": "markdown",
   "id": "af5365f4",
   "metadata": {},
   "source": [
    "### 3.2 Cantidad de tesis por cada asesor"
   ]
  },
  {
   "cell_type": "code",
   "execution_count": 27,
   "id": "648b4159",
   "metadata": {},
   "outputs": [
    {
     "name": "stdout",
     "output_type": "stream",
     "text": [
      "Asesor\n",
      "Sin registro                               92\n",
      "Cueva Moscoso, Rony                        34\n",
      "Melgar Sasieta, Héctor Andrés              22\n",
      "Beltrán Castañón, César Armando            22\n",
      "Flores García, Luis Alberto                13\n",
      "                                           ..\n",
      "Murillo Veliz, Braulio                      1\n",
      "Olivares Poggi, César Augusto               1\n",
      "Davila, Abraham                             1\n",
      "Palma Stanciuc, Rossana Inés                1\n",
      "Zapata Del Río, Claudia María del Pilar     1\n",
      "Name: Asesor, Length: 66, dtype: int64\n"
     ]
    }
   ],
   "source": [
    "df3 = df.groupby('Asesor')['Asesor'].count()\n",
    "\n",
    "df3_ordenado = df3.sort_values(ascending=False)\n",
    "\n",
    "print(df3_ordenado)"
   ]
  }
 ],
 "metadata": {
  "kernelspec": {
   "display_name": "Python 3 (ipykernel)",
   "language": "python",
   "name": "python3"
  },
  "language_info": {
   "codemirror_mode": {
    "name": "ipython",
    "version": 3
   },
   "file_extension": ".py",
   "mimetype": "text/x-python",
   "name": "python",
   "nbconvert_exporter": "python",
   "pygments_lexer": "ipython3",
   "version": "3.10.8"
  }
 },
 "nbformat": 4,
 "nbformat_minor": 5
}
